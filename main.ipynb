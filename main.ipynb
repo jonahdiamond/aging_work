{
 "cells": [
  {
   "cell_type": "code",
   "execution_count": null,
   "metadata": {},
   "outputs": [],
   "source": [
    "!pip3 install pandas\n",
    "!pip3 install scikit-learn\n",
    "!pip3 install matplotlib\n",
    "!pip3 install plotly\n",
    "!pip3 install rpy2\n",
    "\n",
    "import pandas as pa\n",
    "from sklearn.decomposition import PCA\n",
    "import matplotlib.pyplot as plt\n",
    "import plotly.express as px\n",
    "import plotly.offline as pyo\n",
    "import plotly.graph_objs as go\n",
    "import numpy as np\n",
    "from scipy import stats"
   ]
  },
  {
   "cell_type": "code",
   "execution_count": null,
   "metadata": {},
   "outputs": [],
   "source": [
    "!pip3 install pyqt5"
   ]
  },
  {
   "cell_type": "code",
   "execution_count": null,
   "metadata": {},
   "outputs": [],
   "source": [
    "!pip3 install bioinfokit"
   ]
  },
  {
   "cell_type": "code",
   "execution_count": null,
   "metadata": {},
   "outputs": [],
   "source": [
    "table = pa.read_csv(\"data/salmon.merged.gene_counts.tsv\", sep = \"\\t\")"
   ]
  },
  {
   "cell_type": "code",
   "execution_count": null,
   "metadata": {},
   "outputs": [],
   "source": [
    "print(table.head(0))"
   ]
  },
  {
   "cell_type": "code",
   "execution_count": null,
   "metadata": {},
   "outputs": [],
   "source": [
    "# extract names column\n",
    "genes = table.iloc[:, 0]\n",
    "\n",
    "#calculate averages of each row\n",
    "gene_avg = table.iloc[:, 2:].mean(axis=1)\n",
    "\n",
    "#create new table\n",
    "avg_table = pa.DataFrame({'Genes':genes, 'Averages':gene_avg})\n",
    "avg_table"
   ]
  },
  {
   "cell_type": "code",
   "execution_count": null,
   "metadata": {},
   "outputs": [],
   "source": [
    "# find range\n",
    "gene_min = table.iloc[:, 2:].min(axis=1)\n",
    "gene_max = table.iloc[:, 2:].max(axis=1)\n",
    "gene_range = gene_max - gene_min\n",
    "\n",
    "# create new table\n",
    "range_table = pa.DataFrame({'Genes':genes, 'Range':gene_range})\n",
    "range_table"
   ]
  },
  {
   "cell_type": "code",
   "execution_count": null,
   "metadata": {},
   "outputs": [],
   "source": [
    "# identify columns based sample type\n",
    "oh_cols = table.filter(regex=r'^old_human').columns\n",
    "oo_cols = table.filter(regex=r'^old_organoid').columns\n",
    "yh_cols = table.filter(regex=r'^young_human').columns\n",
    "yo_cols = table.filter(regex=r'^young_organoid').columns\n",
    "\n",
    "# get averages of each gene of each sample\n",
    "oh_avg = table[oh_cols].mean(axis=1)\n",
    "oo_avg = table[oo_cols].mean(axis=1)\n",
    "yh_avg = table[yh_cols].mean(axis=1)\n",
    "yo_avg = table[yo_cols].mean(axis=1)\n",
    "\n",
    "# put into data frame\n",
    "better_avg_table = pa.DataFrame({\n",
    "    'Gene':genes,\n",
    "    'Old Human':oh_avg,\n",
    "    'Old Organoid':oo_avg,\n",
    "    'Young Human':yh_avg,\n",
    "    'Young Organoid':yo_avg\n",
    "})\n",
    "\n",
    "better_avg_table"
   ]
  },
  {
   "cell_type": "code",
   "execution_count": null,
   "metadata": {},
   "outputs": [],
   "source": []
  },
  {
   "cell_type": "code",
   "execution_count": null,
   "metadata": {},
   "outputs": [],
   "source": [
    "better_avg_table"
   ]
  },
  {
   "cell_type": "code",
   "execution_count": null,
   "metadata": {},
   "outputs": [],
   "source": [
    "# old human range\n",
    "oh_min = table[oh_cols].min(axis=1)\n",
    "oh_max = table[oh_cols].max(axis=1)\n",
    "oh_range = oh_max - oh_min\n",
    "\n",
    "# old organoid range\n",
    "oo_min = table[oo_cols].min(axis=1)\n",
    "oo_max = table[oo_cols].max(axis=1)\n",
    "oo_range = oo_max - oo_min\n",
    "\n",
    "# young human range\n",
    "yh_min = table[yh_cols].min(axis=1)\n",
    "yh_max = table[yh_cols].max(axis=1)\n",
    "yh_range = yh_max - yh_min\n",
    "\n",
    "# young organoid range\n",
    "yo_min = table[yo_cols].min(axis=1)\n",
    "yo_max = table[yo_cols].max(axis=1)\n",
    "yo_range = yo_max - yo_min\n",
    "\n",
    "# put into data frame\n",
    "better_range_table = pa.DataFrame({'Gene':genes, 'Old Human':oh_range, 'Old Organoid':oo_range, 'Young Human':yh_range, 'Young Organoid':yo_range})\n",
    "better_range_table.to_csv(\"data.csv\")"
   ]
  },
  {
   "cell_type": "code",
   "execution_count": null,
   "metadata": {},
   "outputs": [],
   "source": [
    "# remove gene name columns so they don't interfere with PCA\n",
    "table = table.drop(columns=['gene_name', 'gene_id'])"
   ]
  },
  {
   "cell_type": "code",
   "execution_count": null,
   "metadata": {},
   "outputs": [],
   "source": [
    "pca = PCA()\n",
    "\n",
    "# find line of least regression\n",
    "pca.fit(table.T)\n",
    "\n",
    "# make x-y coords\n",
    "transformed_data = pca.transform(table.T)\n",
    "transformed_table = pa.DataFrame(data=transformed_data, columns=['PC{}'.format(i+1) for i in range(transformed_data.shape[1])])\n",
    "\n",
    "transformed_table = transformed_table.set_index(table.columns)\n",
    "\n",
    "transformed_table"
   ]
  },
  {
   "cell_type": "code",
   "execution_count": null,
   "metadata": {},
   "outputs": [],
   "source": [
    "pca.explained_variance_ratio_"
   ]
  },
  {
   "cell_type": "code",
   "execution_count": null,
   "metadata": {},
   "outputs": [],
   "source": [
    "# make a scatter table\n",
    "scatter_table = go.Scatter(\n",
    "    x = transformed_table[transformed_table.columns[6]],\n",
    "    y = transformed_table[transformed_table.columns[7]],\n",
    "    text = transformed_table.index,\n",
    "    mode = 'markers'\n",
    ")\n",
    "\n",
    "# \n",
    "layout = go.Layout(\n",
    "    xaxis=dict(title=transformed_table.columns[6]),\n",
    "    yaxis=dict(title=transformed_table.columns[7]),\n",
    "    hovermode='closest'\n",
    ")\n",
    "\n",
    "figure = go.Figure(data=[scatter_table], layout=layout)\n",
    "\n",
    "pyo.plot(figure, filename='scatter_plot.html')"
   ]
  },
  {
   "cell_type": "code",
   "execution_count": 36,
   "metadata": {
    "tags": [
     "Heat Map"
    ]
   },
   "outputs": [
    {
     "name": "stdout",
     "output_type": "stream",
     "text": [
      "489\n"
     ]
    },
    {
     "name": "stderr",
     "output_type": "stream",
     "text": [
      "/Users/jonahdiamond/Library/Python/3.9/lib/python/site-packages/pandas/core/internals/blocks.py:329: RuntimeWarning: divide by zero encountered in log10\n",
      "  result = func(self.values, **kwargs)\n"
     ]
    }
   ],
   "source": [
    "import matplotlib.pyplot as plt\n",
    "import pandas as pa\n",
    "from scipy import stats\n",
    "from scipy.stats import f_oneway\n",
    "import numpy as np\n",
    "from bioinfokit import analys, visuz\n",
    "import math\n",
    "\n",
    "\n",
    "# extract names column\n",
    "table = pa.read_csv(\"data/salmon.merged.gene_counts.tsv\", sep = \"\\t\")\n",
    "genes = table.iloc[:, 0]\n",
    "\n",
    "# identify columns based sample type\n",
    "oo_cols = table.filter(regex=r'^old_organoid').columns\n",
    "tm_cols = table.filter(regex=r'^treatment_met').columns\n",
    "tn_cols = table.filter(regex='^treatment_nmn').columns\n",
    "tr_cols = table.filter(regex='^treatment_res').columns\n",
    "yo_cols = table.filter(regex=r'^young_organoid').columns\n",
    "\n",
    "\n",
    "# get averages of each gene of each sample\n",
    "oo_avg = table[oo_cols].mean(axis=1)\n",
    "tm_avg = table[tm_cols].mean(axis=1)\n",
    "tn_avg = table[tn_cols].mean(axis=1)\n",
    "tr_avg = table[tr_cols].mean(axis=1)\n",
    "yo_avg = table[yo_cols].mean(axis=1)\n",
    "\n",
    "#sort heat data\n",
    "heat_data = {\n",
    "    'Old Organoid':oo_avg,\n",
    "    'Metformin Treatment':tm_avg,\n",
    "    'NMN Treatment':tn_avg,\n",
    "    'Resveratrol Treatment':tr_avg,\n",
    "    'Young Organoid':yo_avg\n",
    "}\n",
    "\n",
    "# put into data frame\n",
    "heat_table = pa.DataFrame(heat_data)\n",
    "heat_table.index = genes\n",
    "num_genes_left = 500\n",
    "heat_table = heat_table.head(num_genes_left)\n",
    "#heat_table\n",
    "\n",
    "heat_table =(np.log10(heat_table))\n",
    "\n",
    "# Calculate the standard deviation of each row\n",
    "row_std = heat_table.apply(np.std, axis=1)\n",
    "\n",
    "# Set a threshold for the minimum standard deviation\n",
    "threshold = 0.033\n",
    "\n",
    "# Filter out rows with standard deviation below the threshold\n",
    "filtered_heat_table = heat_table[row_std <= threshold]\n",
    "\n",
    "# Get the indices of the filtered rows\n",
    "filtered_indices = filtered_heat_table.index\n",
    "\n",
    "# Remove the filtered rows from the original heat_table\n",
    "heat_table = heat_table.drop(filtered_indices)\n",
    "\n",
    "# heatmap with hierarchical clustering \n",
    "#visuz.gene_exp.hmap(df=heat_table, dim=(3, 6), tickfont=(6, 4))\n",
    "\n",
    "print(heat_table.shape[0])\n",
    "\n",
    "# heatmap without hierarchical clustering \n",
    "#visuz.gene_exp.hmap(df=heat_table, rowclus=False, colclus=False, dim=(10, 20), tickfont=(9, 8), show=True)\n"
   ]
  },
  {
   "cell_type": "code",
   "execution_count": null,
   "metadata": {},
   "outputs": [],
   "source": [
    "oo_data = heat_table.columns['Old Organoid']\n",
    "tm_data = heat_table.columns['Metformin Treatment']\n",
    "tn_data = heat_table.columns['NMN Treatment']\n",
    "tr_data = heat_table.columns['Resveratrol Treatment']\n",
    "yo_data = heat_table.columns['Young Organoid']\n"
   ]
  },
  {
   "cell_type": "code",
   "execution_count": null,
   "metadata": {},
   "outputs": [],
   "source": [
    "# Define the width and height of the figure\n",
    "fig_width = 120\n",
    "fig_height = 12\n",
    "\n",
    "# Create a new figure with the specified size\n",
    "plt.figure(figsize=(fig_width, fig_height))\n",
    "\n",
    "# Get the column names from heat_table\n",
    "column_names = heat_table.columns\n",
    "\n",
    "# Plot line graphs for each column\n",
    "for column in column_names:\n",
    "    plt.plot(heat_table.index, heat_table[column], label=column)\n",
    "\n",
    "# Set plot title and labels\n",
    "plt.title('Column Comparison')\n",
    "plt.xlabel('Row')\n",
    "plt.ylabel('Value')\n",
    "\n",
    "# Rotate the x-axis tick labels\n",
    "plt.xticks(rotation=45)\n",
    "\n",
    "# Add legend\n",
    "plt.legend()\n",
    "\n",
    "# Show the plot\n",
    "plt.show()\n"
   ]
  },
  {
   "cell_type": "code",
   "execution_count": null,
   "metadata": {},
   "outputs": [],
   "source": [
    "import seaborn as sns\n",
    "\n",
    "# Generate the scatter plot matrix\n",
    "sns.pairplot(heat_table)\n",
    "\n",
    "# Show the plot\n",
    "plt.show()"
   ]
  },
  {
   "cell_type": "code",
   "execution_count": null,
   "metadata": {},
   "outputs": [],
   "source": [
    "# Calculate the correlation matrix\n",
    "correlation_matrix = heat_table.corr()\n",
    "\n",
    "# Plot the correlation matrix as a heatmap\n",
    "sns.heatmap(correlation_matrix, annot=True, cmap=\"coolwarm\")\n",
    "\n",
    "# Show the plot\n",
    "plt.show()"
   ]
  },
  {
   "cell_type": "code",
   "execution_count": null,
   "metadata": {
    "tags": [
     "Nothing printed"
    ]
   },
   "outputs": [],
   "source": [
    "import pandas as pd\n",
    "from pandas.plotting import parallel_coordinates\n",
    "\n",
    "# Create a copy of the heat_table DataFrame\n",
    "normalized_heat_table = heat_table.copy()\n",
    "\n",
    "# Normalize the values in the DataFrame to a common scale\n",
    "normalized_heat_table = (normalized_heat_table - normalized_heat_table.min()) / (normalized_heat_table.max() - normalized_heat_table.min())\n",
    "\n",
    "# Add a target column for coloring the lines (optional)\n",
    "normalized_heat_table['target'] = range(len(normalized_heat_table))\n",
    "\n",
    "# Create the parallel coordinates plot\n",
    "parallel_coordinates(normalized_heat_table, 'target', colormap='coolwarm')\n",
    "\n",
    "# Show the plot\n",
    "plt.show()"
   ]
  },
  {
   "cell_type": "code",
   "execution_count": null,
   "metadata": {},
   "outputs": [],
   "source": [
    "import seaborn as sns\n",
    "import matplotlib.pyplot as plt\n",
    "\n",
    "# Create a grid of scatter plots\n",
    "sns.pairplot(heat_table, diag_kind='kde')\n",
    "\n",
    "# Show the plot\n",
    "plt.show()"
   ]
  },
  {
   "cell_type": "code",
   "execution_count": null,
   "metadata": {},
   "outputs": [],
   "source": [
    "plt.plot(heat_table, marker='x')"
   ]
  },
  {
   "cell_type": "code",
   "execution_count": 37,
   "metadata": {
    "tags": [
     "heat map copy"
    ]
   },
   "outputs": [
    {
     "name": "stderr",
     "output_type": "stream",
     "text": [
      "/Users/jonahdiamond/Library/Python/3.9/lib/python/site-packages/pandas/core/internals/blocks.py:329: RuntimeWarning: divide by zero encountered in log10\n",
      "  result = func(self.values, **kwargs)\n"
     ]
    },
    {
     "data": {
      "text/plain": [
       "[<matplotlib.lines.Line2D at 0x148e43340>]"
      ]
     },
     "execution_count": 37,
     "metadata": {},
     "output_type": "execute_result"
    },
    {
     "data": {
      "image/png": "[encoded data removed]",
      "text/plain": [
       "<Figure size 640x480 with 1 Axes>"
      ]
     },
     "metadata": {},
     "output_type": "display_data"
    }
   ],
   "source": [
    "import matplotlib.pyplot as plt\n",
    "import pandas as pa\n",
    "from scipy import stats\n",
    "from scipy.stats import f_oneway\n",
    "import numpy as np\n",
    "from bioinfokit import analys, visuz\n",
    "import math\n",
    "\n",
    "\n",
    "# extract names column\n",
    "table = pa.read_csv(\"data/salmon.merged.gene_counts.tsv\", sep = \"\\t\")\n",
    "genes = table.iloc[:, 0]\n",
    "\n",
    "# identify columns based sample type\n",
    "oo_cols = table.filter(regex=r'^old_organoid').columns\n",
    "tm_cols = table.filter(regex=r'^treatment_met').columns\n",
    "tn_cols = table.filter(regex='^treatment_nmn').columns\n",
    "tr_cols = table.filter(regex='^treatment_res').columns\n",
    "yo_cols = table.filter(regex=r'^young_organoid').columns\n",
    "\n",
    "\n",
    "# get averages of each gene of each sample\n",
    "oo_avg = table[oo_cols].mean(axis=1)\n",
    "tm_avg = table[tm_cols].mean(axis=1)\n",
    "tn_avg = table[tn_cols].mean(axis=1)\n",
    "tr_avg = table[tr_cols].mean(axis=1)\n",
    "yo_avg = table[yo_cols].mean(axis=1)\n",
    "\n",
    "#sort heat data\n",
    "heat_data = {\n",
    "    'Old Organoid':oo_avg,\n",
    "    'Metformin Treatment':tm_avg,\n",
    "    'NMN Treatment':tn_avg,\n",
    "    'Resveratrol Treatment':tr_avg,\n",
    "    'Young Organoid':yo_avg\n",
    "}\n",
    "\n",
    "# put into data frame\n",
    "heat_table = pa.DataFrame(heat_data)\n",
    "heat_table.index = genes\n",
    "\n",
    "heat_table = heat_table.head(num_genes_left)\n",
    "#heat_table\n",
    "\n",
    "heat_table =(np.log10(heat_table))\n",
    "\n",
    "# Calculate the standard deviation of each row\n",
    "row_std = heat_table.apply(np.std, axis=1)\n",
    "\n",
    "# Store number of genes left\n",
    "xlens = []\n",
    "\n",
    "# Set a threshold for the minimum standard deviation\n",
    "for threshold in np.arange(0.0, 0.1, 0.00001):\n",
    "\n",
    "    # Filter out rows with standard deviation below the threshold\n",
    "    filtered_heat_table = heat_table[row_std <= threshold]\n",
    "    xlength = num_genes_left - filtered_heat_table.shape[0]\n",
    "    xlens.append(xlength)\n",
    "\n",
    "plt.plot(xlens)"
   ]
  },
  {
   "cell_type": "code",
   "execution_count": null,
   "metadata": {},
   "outputs": [],
   "source": []
  }
 ],
 "metadata": {
  "kernelspec": {
   "display_name": "Python 3",
   "language": "python",
   "name": "python3"
  },
  "language_info": {
   "codemirror_mode": {
    "name": "ipython",
    "version": 3
   },
   "file_extension": ".py",
   "mimetype": "text/x-python",
   "name": "python",
   "nbconvert_exporter": "python",
   "pygments_lexer": "ipython3",
   "version": "3.9.6"
  },
  "orig_nbformat": 4
 },
 "nbformat": 4,
 "nbformat_minor": 2
}
